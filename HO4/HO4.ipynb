{
 "cells": [
  {
   "cell_type": "markdown",
   "metadata": {},
   "source": [
    "# Intelligent Systems. Hands-on 3\n",
    "# Introduction\n",
    "\n",
    "We have used the base document [here](http://rpubs.com/rgcmme/IS-HO4) and we have added our analysis at the end of the document.\n",
    "\n",
    "The goal of this document is to show a sample script for pattern-based entity recognition over text documents using a gazetteer. It mainly uses the **openNLP** (natural language processing), the tm (text mining) and the **SPARQL** packages in R.\n",
    "\n",
    "# Preparation\n",
    "## Check working directory\n",
    "Check the working directory with ```wd```. If it is not the one where your data are located, change it with ```setwd```."
   ]
  },
  {
   "cell_type": "code",
   "execution_count": 1,
   "metadata": {},
   "outputs": [],
   "source": [
    "# getwd()"
   ]
  },
  {
   "cell_type": "code",
   "execution_count": 2,
   "metadata": {},
   "outputs": [],
   "source": [
    "# setwd(\"./HO3\")"
   ]
  },
  {
   "cell_type": "markdown",
   "metadata": {},
   "source": [
    "## Load libraries\n",
    "Now we load the required libraries. Only a couple of things to mention:\n",
    "\n",
    "- Using the annotate function of the openNLP package may require to explicitly include the package name (i.e., ```NLP::annotate```) due to a name clash with ggplot2\n",
    "- Need to change the memory allocated to Java to avoid out-of-memory problems"
   ]
  },
  {
   "cell_type": "code",
   "execution_count": 14,
   "metadata": {},
   "outputs": [
    {
     "data": {
      "text/html": [
       "0"
      ],
      "text/latex": [
       "0"
      ],
      "text/markdown": [
       "0"
      ],
      "text/plain": [
       "[1] 0"
      ]
     },
     "metadata": {},
     "output_type": "display_data"
    }
   ],
   "source": [
    "# Needed for OutOfMemoryError: Java heap space \n",
    "library(rJava)\n",
    "# .jinit(parameters=\"-Xmx4g\")\n",
    "# If there are more memory problems, invoke gc() after the POS tagging\n",
    "\n",
    "library(NLP)\n",
    "library(openNLP) \n",
    "library(openNLPmodels.en)\n",
    "library(tm)\n",
    "library(stringr)\n",
    "library(SPARQL)\n",
    "library(parallel)"
   ]
  },
  {
   "cell_type": "markdown",
   "metadata": {},
   "source": [
    "# Auxiliary functions\n",
    "## getAnnotationsFromDocument\n",
    "```getAnnotationsFromDocument``` returns annotations for the text document: word, sentence, part-of-speech, and Penn Treebank parse annotations.\n",
    "\n",
    "As an alternative, the koRpus package uses TreeTagger for POS tagging."
   ]
  },
  {
   "cell_type": "code",
   "execution_count": 15,
   "metadata": {},
   "outputs": [],
   "source": [
    "getAnnotationsFromDocument = function(doc){\n",
    "  x=as.String(doc)\n",
    "  sent_token_annotator <- Maxent_Sent_Token_Annotator()\n",
    "  word_token_annotator <- Maxent_Word_Token_Annotator()\n",
    "  pos_tag_annotator <- Maxent_POS_Tag_Annotator()\n",
    "  y1 <- annotate(x, list(sent_token_annotator, word_token_annotator))\n",
    "  y2 <- annotate(x, pos_tag_annotator, y1)\n",
    "#  parse_annotator <- Parse_Annotator()\n",
    "#  y3 <- annotate(x, parse_annotator, y2)\n",
    "  return(y2)  \n",
    "} "
   ]
  },
  {
   "cell_type": "markdown",
   "metadata": {},
   "source": [
    "# getAnnotatedMergedDocument\n",
    "```getAnnotatedMergedDocument``` returns the text document merged with the annotations."
   ]
  },
  {
   "cell_type": "code",
   "execution_count": 16,
   "metadata": {},
   "outputs": [],
   "source": [
    "getAnnotatedMergedDocument = function(doc,annotations){\n",
    "  x=as.String(doc)\n",
    "  y2w <- subset(annotations, type == \"word\")\n",
    "  tags <- sapply(y2w$features, '[[', \"POS\")\n",
    "  r1 <- sprintf(\"%s/%s\", x[y2w], tags)\n",
    "  r2 <- paste(r1, collapse = \" \")\n",
    "  return(r2)  \n",
    "} "
   ]
  },
  {
   "cell_type": "markdown",
   "metadata": {},
   "source": [
    "# getAnnotatedPlainTextDocument\n",
    "```getAnnotatedPlainTextDocument``` returns the text document along with its annotations in an ```AnnotatedPlainTextDocument```."
   ]
  },
  {
   "cell_type": "code",
   "execution_count": 17,
   "metadata": {},
   "outputs": [],
   "source": [
    "getAnnotatedPlainTextDocument = function(doc,annotations){\n",
    "  x=as.String(doc)\n",
    "  a = AnnotatedPlainTextDocument(x,annotations)\n",
    "  return(a)  \n",
    "} "
   ]
  },
  {
   "cell_type": "markdown",
   "metadata": {},
   "source": [
    "# detectPatternOnDocument --> <font color='red'> Modified to include all matches</font> \n",
    "```detectPatternOnDocument``` returns the pattern detected on an ```AnnotatedPlainTextDocument```.\n",
    "\n",
    "We have modified this function to include all matches in a document for the names annotation, not only the first one."
   ]
  },
  {
   "cell_type": "code",
   "execution_count": 18,
   "metadata": {},
   "outputs": [],
   "source": [
    "detectPatternOnDocument_old <- function(doc, pattern) {\n",
    "  x=as.String(doc)\n",
    "  res=str_match(x,pattern)\n",
    "  \n",
    "  if (length(res)==1){\n",
    "    return (res)\n",
    "  } else {\n",
    "    if (all(is.na(res[,2:length(res)])))\n",
    "      return (NA)\n",
    "    else {\n",
    "      ret=list()\n",
    "      for (i in 2:length(res)){\n",
    "        ret = paste(ret,res[i])\n",
    "      }\n",
    "      return(ret)\n",
    "    }\n",
    "  }\n",
    "}"
   ]
  },
  {
   "cell_type": "code",
   "execution_count": 19,
   "metadata": {},
   "outputs": [],
   "source": [
    "detectPatternOnDocument <- function(doc, pattern) {\n",
    "  x=as.String(doc)\n",
    "  res=str_match_all(x,pattern)\n",
    "  if (length(res[[1]])==0){\n",
    "    return (NA)\n",
    "  } else {\n",
    "      if (all(is.na(res[2:length(res)]))){\n",
    "          return (NA)\n",
    "      }\n",
    "      else {\n",
    "            ret=list()\n",
    "            for (k in 1:length(res)){\n",
    "              for (i in 1:length(res[[k]][,1])){\n",
    "                            if (i>1){\n",
    "                      ret = paste(ret,\",\")\n",
    "                  }\n",
    "                  for (j in 2:(length(res[[1]][1,]))){\n",
    "                      ret = paste(ret,res[[k]][i,j])\n",
    "                  }\n",
    "              }\n",
    "            }\n",
    "    return(ret)\n",
    "    }\n",
    "  }\n",
    "}"
   ]
  },
  {
   "cell_type": "markdown",
   "metadata": {},
   "source": [
    "# detectPatternsInCorpus --> <font color='red'> Modified to call the new function </font> \n",
    "```detectPatternsInCorpus``` returns a data frame with all the patterns detected in a corpus."
   ]
  },
  {
   "cell_type": "code",
   "execution_count": 20,
   "metadata": {},
   "outputs": [],
   "source": [
    "detectPatternsInCorpus = function(corpus, patterns, type){\n",
    "  vallEntities <- data.frame(matrix(NA, ncol = length(patterns)+1, \n",
    "                                    nrow = length(corpus)))\n",
    "  names(vallEntities) <- c(\"File\",patterns)\n",
    "  for (i in 1:length(patterns)) {\n",
    "      if (type == \"old\"){\n",
    "                vallEntities[,i+1]=unlist(lapply(corpus, detectPatternOnDocument_old, \n",
    "                                         pattern=patterns[i]))\n",
    "          } \n",
    "      else {\n",
    "                vallEntities[,i+1]=unlist(lapply(corpus, detectPatternOnDocument, \n",
    "                                         pattern=patterns[i]))          \n",
    "      }\n",
    "    }\n",
    "  for (i in 1:length(corpus)) {\n",
    "    vallEntities$File[i]=meta(corpus[[i]])$id\n",
    "    }\n",
    "  return (vallEntities)  \n",
    "  }"
   ]
  },
  {
   "cell_type": "markdown",
   "metadata": {},
   "source": [
    "# countMatchesPerColumn\n",
    "```countMatchesPerColumn``` returns the number of matches per pattern/column.\n",
    "\n",
    "Counts the number of columns with non-NA values for each pattern."
   ]
  },
  {
   "cell_type": "code",
   "execution_count": 21,
   "metadata": {},
   "outputs": [],
   "source": [
    "countMatchesPerColumn = function (df) {\n",
    "  entityCountPerPattern <- data.frame(matrix(NA, ncol = 2, \n",
    "                                             nrow = length(names(df))-1))\n",
    "  names(entityCountPerPattern) <- c(\"Entity\",\"Count\")\n",
    "  \n",
    "  for (i in 2:length(names(df))) {\n",
    "    entityCountPerPattern$Entity[i-1] = names(df)[i]\n",
    "    entityCountPerPattern$Count[i-1] = nrow(subset(df, !is.na(df[i])))\n",
    "    }\n",
    "  return (entityCountPerPattern)\n",
    "  }"
   ]
  },
  {
   "cell_type": "markdown",
   "metadata": {},
   "source": [
    "# countMatchesPerRow\n",
    "```countMatchesPerRow``` returns the number of entities per file/row.\n",
    "\n",
    "Counts the number of rows with non-NA values for each file."
   ]
  },
  {
   "cell_type": "code",
   "execution_count": 22,
   "metadata": {},
   "outputs": [],
   "source": [
    "countMatchesPerRow = function (df) {\n",
    "  entityCountPerFile <- data.frame(matrix(NA, ncol = 2, nrow = nrow(df)))\n",
    "  names(entityCountPerFile) <- c(\"File\",\"Count\")\n",
    "  \n",
    "  for (i in 1:nrow(df)) {\n",
    "    entityCountPerFile$File[i] = df$File[i]\n",
    "    entityCountPerFile$Count[i] = length(Filter(Negate(is.na),df[i,2:length(df[i,])]))\n",
    "    }\n",
    "  return (entityCountPerFile[entityCountPerFile[2]!=0,])\n",
    "  }"
   ]
  },
  {
   "cell_type": "markdown",
   "metadata": {},
   "source": [
    "# mergeAllMatchesInLists\n",
    "```mergeAllMatchesInLists``` returns a data frame with all the files and their matches in a single list per file."
   ]
  },
  {
   "cell_type": "code",
   "execution_count": 23,
   "metadata": {},
   "outputs": [],
   "source": [
    "mergeAllMatchesInLists = function (df) {\n",
    "  matchesPerFile = rep(list(list()), nrow(df))\n",
    "\n",
    "  for (i in 1:nrow(df)) {    \n",
    "    matches=as.list(unname(unlist(Filter(Negate(is.na),df[i,2:length(df[i,])]))))\n",
    "    matchesPerFile[[i]]=append(matchesPerFile[[i]],matches)\n",
    "  }\n",
    "  \n",
    "  files = df[,1]\n",
    "  matches = matchesPerFile\n",
    "  \n",
    "  allMatches<- data.frame(matrix(NA, ncol = 2, nrow = nrow(df)))\n",
    "  names(allMatches) <- c(\"Files\",\"Matches\")\n",
    "  \n",
    "  allMatches$Files=files\n",
    "  allMatches$Matches=matches\n",
    "  \n",
    "  return (allMatches)\n",
    "}"
   ]
  },
  {
   "cell_type": "markdown",
   "metadata": {},
   "source": [
    "# mergeGoldStandardInLists\n",
    "```mergeGoldStandardInLists``` returns a data frame with all the files and the gold standard matches in a single list per file."
   ]
  },
  {
   "cell_type": "code",
   "execution_count": 24,
   "metadata": {},
   "outputs": [],
   "source": [
    "mergeGoldStandardInLists = function (df) {\n",
    "  matchesPerFile = rep(list(list()), nrow(df))\n",
    "  \n",
    "  for (i in 1:nrow(df)) {    \n",
    "    matches=as.list(unlist(Filter(Negate(is.na),df[i,2:length(df)])))\n",
    "    matchesPerFile[[i]]=append(matchesPerFile[[i]],matches)\n",
    "  }\n",
    "  \n",
    "  files = df[,1]\n",
    "  matches = matchesPerFile\n",
    "  \n",
    "  allMatches<- data.frame(matrix(NA, ncol = 2, nrow = nrow(df)))\n",
    "  names(allMatches) <- c(\"Files\",\"Matches\")\n",
    "  \n",
    "  allMatches$Files=files\n",
    "  allMatches$Matches=matches\n",
    "  \n",
    "  return (allMatches)\n",
    "}"
   ]
  },
  {
   "cell_type": "markdown",
   "metadata": {},
   "source": [
    "# calculateMetrics\n",
    "```calculateMetrics``` calculates precision, recall and f-measure according to a gold standard."
   ]
  },
  {
   "cell_type": "code",
   "execution_count": 25,
   "metadata": {},
   "outputs": [],
   "source": [
    "calculateMetrics = function (matches, matches.gs) {\n",
    "  \n",
    "  metrics<- data.frame(matrix(NA, ncol = 3, nrow = 1))\n",
    "  names(metrics) <- c(\"Precision\",\"Recall\",\"Fmeasure\")\n",
    "  \n",
    "  numCorrect = 0\n",
    "  allAnswers = 0\n",
    "  possibleAnswers = 0\n",
    "  \n",
    "  for (i in 1:nrow(matches)) {    \n",
    "    if (length(matches.gs$Matches[[i]])!=0) {\n",
    "      l = str_trim(unlist(matches[i,2]))\n",
    "      l.gs = unname(unlist(matches.gs[i,2]))\n",
    "      intersection = intersect(l, l.gs)\n",
    "      numCorrect = numCorrect + length(intersect(l, l.gs))\n",
    "      allAnswers = allAnswers + length (l)\n",
    "      possibleAnswers = possibleAnswers + length(l.gs)    \n",
    "    }\n",
    "  }\n",
    "  \n",
    "  metrics$Precision = numCorrect / allAnswers\n",
    "  metrics$Recall = numCorrect / possibleAnswers\n",
    "  \n",
    "  beta = 1\n",
    "  metrics$Fmeasure= ((sqrt(beta)+1) * metrics$Precision * metrics$Recall) / \n",
    "    ((sqrt(beta)*metrics$Precision) + metrics$Recall)\n",
    "  \n",
    "  return(metrics)\n",
    "}"
   ]
  },
  {
   "cell_type": "markdown",
   "metadata": {},
   "source": [
    "# Load corpus\n",
    "We are going to use the **[Movie review data](http://www.cs.cornell.edu/people/pabo/movie-review-data/)** version 2.0, created by Bo Pang and Lillian Lee.\n",
    "\n",
    "Once unzipped, the data splits the different documents into positive and negative opinions. In this script we are going to use the positive opinions located in ```./txt_sentoken/pos```.\n",
    "\n",
    "We are only going to load the first 500 reviews."
   ]
  },
  {
   "cell_type": "code",
   "execution_count": 26,
   "metadata": {},
   "outputs": [],
   "source": [
    "source.pos = DirSource(\"./HO2/txt_sentoken/pos\", encoding = \"UTF-8\")\n",
    "corpus = Corpus(source.pos)"
   ]
  },
  {
   "cell_type": "markdown",
   "metadata": {},
   "source": [
    "# Inspect corpus\n",
    "Let’s take a look at the document in the first entry."
   ]
  },
  {
   "cell_type": "code",
   "execution_count": 27,
   "metadata": {
    "scrolled": true
   },
   "outputs": [
    {
     "name": "stdout",
     "output_type": "stream",
     "text": [
      "<<PlainTextDocument>>\n",
      "Metadata:  7\n",
      "Content:  chars: 4226\n",
      "\n",
      "films adapted from comic books have had plenty of success , whether they're about superheroes ( batman , superman , spawn ) , or geared toward kids ( casper ) or the arthouse crowd ( ghost world ) , but there's never really been a comic book like from hell before . \n",
      "for starters , it was created by alan moore ( and eddie campbell ) , who brought the medium to a whole new level in the mid '80s with a 12-part series called the watchmen . \n",
      "to say moore and campbell thoroughly researched the subject of jack the ripper would be like saying michael jackson is starting to look a little odd . \n",
      "the book ( or \" graphic novel , \" if you will ) is over 500 pages long and includes nearly 30 more that consist of nothing but footnotes . \n",
      "in other words , don't dismiss this film because of its source . \n",
      "if you can get past the whole comic book thing , you might find another stumbling block in from hell's directors , albert and allen hughes . \n",
      "getting the hughes brothers to direct this seems almost as ludicrous as casting carrot top in , well , anything , but riddle me this : who better to direct a film that's set in the ghetto and features really violent street crime than the mad geniuses behind menace ii society ? \n",
      "the ghetto in question is , of course , whitechapel in 1888 london's east end . \n",
      "it's a filthy , sooty place where the whores ( called \" unfortunates \" ) are starting to get a little nervous about this mysterious psychopath who has been carving through their profession with surgical precision . \n",
      "when the first stiff turns up , copper peter godley ( robbie coltrane , the world is not enough ) calls in inspector frederick abberline ( johnny depp , blow ) to crack the case . \n",
      "abberline , a widower , has prophetic dreams he unsuccessfully tries to quell with copious amounts of absinthe and opium . \n",
      "upon arriving in whitechapel , he befriends an unfortunate named mary kelly ( heather graham , say it isn't so ) and proceeds to investigate the horribly gruesome crimes that even the police surgeon can't stomach . \n",
      "i don't think anyone needs to be briefed on jack the ripper , so i won't go into the particulars here , other than to say moore and campbell have a unique and interesting theory about both the identity of the killer and the reasons he chooses to slay . \n",
      "in the comic , they don't bother cloaking the identity of the ripper , but screenwriters terry hayes ( vertical limit ) and rafael yglesias ( les mis ? rables ) do a good job of keeping him hidden from viewers until the very end . \n",
      "it's funny to watch the locals blindly point the finger of blame at jews and indians because , after all , an englishman could never be capable of committing such ghastly acts . \n",
      "and from hell's ending had me whistling the stonecutters song from the simpsons for days ( \" who holds back the electric car/who made steve guttenberg a star ? \" ) . \n",
      "don't worry - it'll all make sense when you see it . \n",
      "now onto from hell's appearance : it's certainly dark and bleak enough , and it's surprising to see how much more it looks like a tim burton film than planet of the apes did ( at times , it seems like sleepy hollow 2 ) . \n",
      "the print i saw wasn't completely finished ( both color and music had not been finalized , so no comments about marilyn manson ) , but cinematographer peter deming ( don't say a word ) ably captures the dreariness of victorian-era london and helped make the flashy killing scenes remind me of the crazy flashbacks in twin peaks , even though the violence in the film pales in comparison to that in the black-and-white comic . \n",
      "oscar winner martin childs' ( shakespeare in love ) production design turns the original prague surroundings into one creepy place . \n",
      "even the acting in from hell is solid , with the dreamy depp turning in a typically strong performance and deftly handling a british accent . \n",
      "ians holm ( joe gould's secret ) and richardson ( 102 dalmatians ) log in great supporting roles , but the big surprise here is graham . \n",
      "i cringed the first time she opened her mouth , imagining her attempt at an irish accent , but it actually wasn't half bad . \n",
      "the film , however , is all good . \n",
      "2 : 00 - r for strong violence/gore , sexuality , language and drug content \n"
     ]
    }
   ],
   "source": [
    "inspect(corpus[[1]])"
   ]
  },
  {
   "cell_type": "markdown",
   "metadata": {},
   "source": [
    "# Annotate corpus\n",
    "We just apply the ```getAnnotationsFromDocument``` function to every document in the corpus using ```lapply```.\n",
    "\n",
    "This step may take long depending on the size of the corpus and on the annotations that we want to identify."
   ]
  },
  {
   "cell_type": "code",
   "execution_count": 28,
   "metadata": {},
   "outputs": [],
   "source": [
    "annotations = lapply(corpus[1:500], getAnnotationsFromDocument)"
   ]
  },
  {
   "cell_type": "markdown",
   "metadata": {},
   "source": [
    "We can create ```AnnotatedPlainTextDocuments``` that attach the annotations to the document and store the annotated corpus in another variable (since we destroy the corpus metadata)."
   ]
  },
  {
   "cell_type": "code",
   "execution_count": 29,
   "metadata": {},
   "outputs": [],
   "source": [
    "corpus.tagged = Map(getAnnotatedPlainTextDocument, corpus, annotations)"
   ]
  },
  {
   "cell_type": "code",
   "execution_count": 30,
   "metadata": {},
   "outputs": [],
   "source": [
    "corpus.taggedText = Map(getAnnotatedMergedDocument, corpus, annotations)"
   ]
  },
  {
   "cell_type": "markdown",
   "metadata": {},
   "source": [
    "# Get actor names from DBpedia\n",
    "We define a query to obtain (some) actor names in DBpedia."
   ]
  },
  {
   "cell_type": "code",
   "execution_count": 31,
   "metadata": {},
   "outputs": [],
   "source": [
    "prefixT <- c(\"skos\",\"http://www.w3.org/2004/02/skos/core#\")\n",
    "\n",
    "sparql_prefixT <- \"\n",
    "PREFIX owl: <http://www.w3.org/2002/07/owl#>\n",
    "\"\n",
    "\n",
    "qT <- paste(sparql_prefixT,\"\n",
    "SELECT DISTINCT ?label where {\n",
    "  ?actor a <http://dbpedia.org/class/yago/Actor109765278> .\n",
    "  ?actor rdfs:label ?label .\n",
    "} \n",
    "LIMIT 10000\n",
    "OFFSET 0\n",
    "\")"
   ]
  },
  {
   "cell_type": "markdown",
   "metadata": {},
   "source": [
    "Let’s evaluate the query against the SPARQL endpoint."
   ]
  },
  {
   "cell_type": "code",
   "execution_count": 32,
   "metadata": {},
   "outputs": [],
   "source": [
    "endpointT <- \"http://dbpedia.org/sparql\"\n",
    "optionsT=\"\"\n",
    "\n",
    "actors <- SPARQL(endpointT,qT,ns=prefixT,extra=optionsT)$results"
   ]
  },
  {
   "cell_type": "markdown",
   "metadata": {},
   "source": [
    "And take a look at the output of the query."
   ]
  },
  {
   "cell_type": "code",
   "execution_count": 33,
   "metadata": {},
   "outputs": [
    {
     "data": {
      "text/html": [
       "10000"
      ],
      "text/latex": [
       "10000"
      ],
      "text/markdown": [
       "10000"
      ],
      "text/plain": [
       "[1] 10000"
      ]
     },
     "metadata": {},
     "output_type": "display_data"
    }
   ],
   "source": [
    "length(actors)"
   ]
  },
  {
   "cell_type": "code",
   "execution_count": 34,
   "metadata": {},
   "outputs": [
    {
     "data": {
      "text/html": [
       "<table>\n",
       "<thead><tr><th scope=col>label</th><th scope=col>label.1</th><th scope=col>label.2</th><th scope=col>label.3</th><th scope=col>label.4</th><th scope=col>label.5</th><th scope=col>label.6</th><th scope=col>label.7</th><th scope=col>label.8</th><th scope=col>label.9</th><th scope=col>...</th><th scope=col>label.20</th><th scope=col>label.21</th><th scope=col>label.22</th><th scope=col>label.23</th><th scope=col>label.24</th><th scope=col>label.25</th><th scope=col>label.26</th><th scope=col>label.27</th><th scope=col>label.28</th><th scope=col>label.29</th></tr></thead>\n",
       "<tbody>\n",
       "\t<tr><td>\"Megan Lawrence\"@it             </td><td>\"Megan Lawrence\"@en             </td><td>\"Barry James\"@it                </td><td>\"Barry James\"@en                </td><td>\"Al Pacino\"@en                  </td><td>\"Ø¢Ù„ Ø¨Ø§ØªØ´ÙŠÙ†Ùˆ\"@ar        </td><td>\"Al Pacino\"@de                  </td><td>\"Al Pacino\"@es                  </td><td>\"Al Pacino\"@fr                  </td><td>\"Al Pacino\"@it                  </td><td>...                             </td><td>\"Alan Rickman\"@fr               </td><td>\"Alan Rickman\"@it               </td><td>\"ã‚¢ãƒ©ãƒ³ãƒ»ãƒªãƒƒã‚¯ãƒžãƒ³\"@ja</td><td>\"Alan Rickman\"@nl               </td><td>\"Alan Rickman\"@pl               </td><td>\"Alan Rickman\"@pt               </td><td>\"Ð Ð¸ÐºÐ¼Ð°Ð½, ÐÐ»Ð°Ð½\"@ru     </td><td>\"è‰¾å€«Â·ç‘žå…‹æ›¼\"@zh          </td><td>\"Albert Finney\"@en              </td><td>\"Ø£Ù„Ø¨Ø±Øª ÙÙŠÙ†ÙŠ\"@ar        </td></tr>\n",
       "</tbody>\n",
       "</table>\n"
      ],
      "text/latex": [
       "\\begin{tabular}{r|llllllllllllllllllllllllllllll}\n",
       " label & label.1 & label.2 & label.3 & label.4 & label.5 & label.6 & label.7 & label.8 & label.9 & ... & label.20 & label.21 & label.22 & label.23 & label.24 & label.25 & label.26 & label.27 & label.28 & label.29\\\\\n",
       "\\hline\n",
       "\t \"Megan Lawrence\"@it              & \"Megan Lawrence\"@en              & \"Barry James\"@it                 & \"Barry James\"@en                 & \"Al Pacino\"@en                   & \"Ø¢Ù„ Ø¨Ø§ØªØ´ÙŠÙ†Ùˆ\"@ar         & \"Al Pacino\"@de                   & \"Al Pacino\"@es                   & \"Al Pacino\"@fr                   & \"Al Pacino\"@it                   & ...                              & \"Alan Rickman\"@fr                & \"Alan Rickman\"@it                & \"ã‚¢ãƒ©ãƒ³ãƒ»ãƒªãƒƒã‚¯ãƒžãƒ³\"@ja & \"Alan Rickman\"@nl                & \"Alan Rickman\"@pl                & \"Alan Rickman\"@pt                & \"Ð Ð¸ÐºÐ¼Ð°Ð½, ÐÐ»Ð°Ð½\"@ru      & \"è‰¾å€«Â·ç‘žå…‹æ›¼\"@zh           & \"Albert Finney\"@en               & \"Ø£Ù„Ø¨Ø±Øª ÙÙŠÙ†ÙŠ\"@ar        \\\\\n",
       "\\end{tabular}\n"
      ],
      "text/markdown": [
       "\n",
       "label | label.1 | label.2 | label.3 | label.4 | label.5 | label.6 | label.7 | label.8 | label.9 | ... | label.20 | label.21 | label.22 | label.23 | label.24 | label.25 | label.26 | label.27 | label.28 | label.29 | \n",
       "|---|\n",
       "| \"Megan Lawrence\"@it              | \"Megan Lawrence\"@en              | \"Barry James\"@it                 | \"Barry James\"@en                 | \"Al Pacino\"@en                   | \"Ø¢Ù„ Ø¨Ø§ØªØ´ÙŠÙ†Ùˆ\"@ar         | \"Al Pacino\"@de                   | \"Al Pacino\"@es                   | \"Al Pacino\"@fr                   | \"Al Pacino\"@it                   | ...                              | \"Alan Rickman\"@fr                | \"Alan Rickman\"@it                | \"ã‚¢ãƒ©ãƒ³ãƒ»ãƒªãƒƒã‚¯ãƒžãƒ³\"@ja | \"Alan Rickman\"@nl                | \"Alan Rickman\"@pl                | \"Alan Rickman\"@pt                | \"Ð Ð¸ÐºÐ¼Ð°Ð½, ÐÐ»Ð°Ð½\"@ru      | \"è‰¾å€«Â·ç‘žå…‹æ›¼\"@zh           | \"Albert Finney\"@en               | \"Ø£Ù„Ø¨Ø±Øª ÙÙŠÙ†ÙŠ\"@ar         | \n",
       "\n",
       "\n"
      ],
      "text/plain": [
       "  label               label.1             label.2          label.3         \n",
       "1 \"Megan Lawrence\"@it \"Megan Lawrence\"@en \"Barry James\"@it \"Barry James\"@en\n",
       "  label.4        label.5                  label.6        label.7       \n",
       "1 \"Al Pacino\"@en \"Ø¢Ù„ Ø¨Ø§ØªØ´ÙŠÙ†Ù\\210\"@ar \"Al Pacino\"@de \"Al Pacino\"@es\n",
       "  label.8        label.9        ... label.20          label.21         \n",
       "1 \"Al Pacino\"@fr \"Al Pacino\"@it ... \"Alan Rickman\"@fr \"Alan Rickman\"@it\n",
       "  label.22                         label.23          label.24         \n",
       "1 \"ã‚¢ãƒ©ãƒ³ãƒ»ãƒªãƒƒã‚¯ãƒžãƒ³\"@ja \"Alan Rickman\"@nl \"Alan Rickman\"@pl\n",
       "  label.25          label.26                    label.27              \n",
       "1 \"Alan Rickman\"@pt \"Ð Ð¸ÐºÐ¼Ð°Ð½, Ð\\220Ð»Ð°Ð½\"@ru \"è‰¾å\\200«Â·ç‘žå…‹æ›¼\"@zh\n",
       "  label.28           label.29                \n",
       "1 \"Albert Finney\"@en \"Ø£Ù„Ø¨Ø±Øª Ù\\201ÙŠÙ†ÙŠ\"@ar"
      ]
     },
     "metadata": {},
     "output_type": "display_data"
    }
   ],
   "source": [
    "actors[1:30]"
   ]
  },
  {
   "cell_type": "markdown",
   "metadata": {},
   "source": [
    "# Clean the query result\n",
    "We need to clean the output of the query. We need to:\n",
    "\n",
    "- Remove everything out of the quotes\n",
    "- Remove parentheses\n",
    "- Remove duplicates\n",
    "- Remove “.” for the regular expression\n",
    "- Put all letters in non-capital"
   ]
  },
  {
   "cell_type": "code",
   "execution_count": 35,
   "metadata": {},
   "outputs": [
    {
     "data": {
      "text/html": [
       "4565"
      ],
      "text/latex": [
       "4565"
      ],
      "text/markdown": [
       "4565"
      ],
      "text/plain": [
       "[1] 4565"
      ]
     },
     "metadata": {},
     "output_type": "display_data"
    }
   ],
   "source": [
    "actors.2 <- mclapply(actors, function(x) strsplit(x,'\"')[[1]][2])\n",
    "actors.3 <- mclapply(actors.2, function(x) strsplit(x,' \\\\(')[[1]][1])\n",
    "actor.names <- unique(actors.3)\n",
    "actor.names <- mclapply(actor.names, gsub, pattern=\"\\\\.\", replacement=\" \")\n",
    "actor.names <- mclapply(actor.names, tolower)\n",
    "length(actor.names)"
   ]
  },
  {
   "cell_type": "code",
   "execution_count": 36,
   "metadata": {},
   "outputs": [
    {
     "data": {
      "text/html": [
       "<ol>\n",
       "\t<li>'megan lawrence'</li>\n",
       "\t<li>'barry james'</li>\n",
       "\t<li>'al pacino'</li>\n",
       "\t<li>'ø¢ù„ ø¨ø§øªø´ùšù†ù\\210'</li>\n",
       "\t<li>'ã‚¢ãƒ«ãƒ»ãƒ‘ãƒ\\201ãƒ¼ãƒž'</li>\n",
       "\t<li>'ðÿð°ñ‡ð¸ð½ð¾, ð\\220ð»ñœ'</li>\n",
       "\t<li>'è‰¾å°”â·å¸•è¥¿è¯º'</li>\n",
       "\t<li>'alan rickman'</li>\n",
       "\t<li>'ø£ù„ø§ù† ø±ùšùƒù…ø§ù†'</li>\n",
       "\t<li>'ã‚¢ãƒ©ãƒ³ãƒ»ãƒªãƒƒã‚¯ãƒžãƒ³'</li>\n",
       "</ol>\n"
      ],
      "text/latex": [
       "\\begin{enumerate}\n",
       "\\item 'megan lawrence'\n",
       "\\item 'barry james'\n",
       "\\item 'al pacino'\n",
       "\\item 'ø¢ù„ ø¨ø§øªø´ùšù†ù\\textbackslash{}210'\n",
       "\\item 'ã‚¢ãƒ«ãƒ»ãƒ‘ãƒ\\textbackslash{}201ãƒ¼ãƒž'\n",
       "\\item 'ðÿð°ñ‡ð¸ð½ð¾, ð\\textbackslash{}220ð»ñœ'\n",
       "\\item 'è‰¾å°”â·å¸•è¥¿è¯º'\n",
       "\\item 'alan rickman'\n",
       "\\item 'ø£ù„ø§ù† ø±ùšùƒù…ø§ù†'\n",
       "\\item 'ã‚¢ãƒ©ãƒ³ãƒ»ãƒªãƒƒã‚¯ãƒžãƒ³'\n",
       "\\end{enumerate}\n"
      ],
      "text/markdown": [
       "1. 'megan lawrence'\n",
       "2. 'barry james'\n",
       "3. 'al pacino'\n",
       "4. 'ø¢ù„ ø¨ø§øªø´ùšù†ù\\210'\n",
       "5. 'ã‚¢ãƒ«ãƒ»ãƒ‘ãƒ\\201ãƒ¼ãƒž'\n",
       "6. 'ðÿð°ñ‡ð¸ð½ð¾, ð\\220ð»ñœ'\n",
       "7. 'è‰¾å°”â·å¸•è¥¿è¯º'\n",
       "8. 'alan rickman'\n",
       "9. 'ø£ù„ø§ù† ø±ùšùƒù…ø§ù†'\n",
       "10. 'ã‚¢ãƒ©ãƒ³ãƒ»ãƒªãƒƒã‚¯ãƒžãƒ³'\n",
       "\n",
       "\n"
      ],
      "text/plain": [
       "[[1]]\n",
       "[1] \"megan lawrence\"\n",
       "\n",
       "[[2]]\n",
       "[1] \"barry james\"\n",
       "\n",
       "[[3]]\n",
       "[1] \"al pacino\"\n",
       "\n",
       "[[4]]\n",
       "[1] \"ø¢ù„ ø¨ø§øªø´ùšù†ù\\210\"\n",
       "\n",
       "[[5]]\n",
       "[1] \"ã‚¢ãƒ«ãƒ»ãƒ‘ãƒ\\201ãƒ¼ãƒž\"\n",
       "\n",
       "[[6]]\n",
       "[1] \"ðÿð°ñ‡ð¸ð½ð¾, ð\\220ð»ñœ\"\n",
       "\n",
       "[[7]]\n",
       "[1] \"è‰¾å°”â·å¸•è¥¿è¯º\"\n",
       "\n",
       "[[8]]\n",
       "[1] \"alan rickman\"\n",
       "\n",
       "[[9]]\n",
       "[1] \"ø£ù„ø§ù† ø±ùšùƒù…ø§ù†\"\n",
       "\n",
       "[[10]]\n",
       "[1] \"ã‚¢ãƒ©ãƒ³ãƒ»ãƒªãƒƒã‚¯ãƒžãƒ³\"\n"
      ]
     },
     "metadata": {},
     "output_type": "display_data"
    }
   ],
   "source": [
    "head(actor.names,10)"
   ]
  },
  {
   "cell_type": "markdown",
   "metadata": {},
   "source": [
    "# Write gazetteer to a file\n",
    "Now we write the gazetteer to a file."
   ]
  },
  {
   "cell_type": "code",
   "execution_count": 37,
   "metadata": {},
   "outputs": [],
   "source": [
    "write.table(unlist(actor.names), file = \"gazetteer.txt\", row.names = F, col.names = F, na=\"\", sep=\";\")"
   ]
  },
  {
   "cell_type": "markdown",
   "metadata": {},
   "source": [
    "# Detect patterns\n",
    "We include spaces at both sides of the names, to only match full words.\n",
    "\n",
    "And we detect the patterns in the corpus."
   ]
  },
  {
   "cell_type": "code",
   "execution_count": 39,
   "metadata": {},
   "outputs": [],
   "source": [
    "pattern.an <- mclapply(actor.names, function(x) return(paste(\" \",x,\" \",sep = \"\")))\n",
    "pattern.an=unlist(pattern.an)\n",
    "\n",
    "# There is some actor named \"you\" that is spoiling our results; we remove it\n",
    "pattern.an = pattern.an[grep(\"^ you $\", pattern.an, invert = TRUE)]\n",
    "\n",
    "matches.an = detectPatternsInCorpus(corpus, pattern.an, \"old\")"
   ]
  },
  {
   "cell_type": "markdown",
   "metadata": {},
   "source": [
    "Let’s see how many patterns we have found per file."
   ]
  },
  {
   "cell_type": "code",
   "execution_count": 40,
   "metadata": {},
   "outputs": [
    {
     "data": {
      "text/html": [
       "<table>\n",
       "<thead><tr><th></th><th scope=col>File</th><th scope=col>Count</th></tr></thead>\n",
       "<tbody>\n",
       "\t<tr><th scope=row>1</th><td>cv000_29590.txt</td><td>1              </td></tr>\n",
       "\t<tr><th scope=row>3</th><td>cv002_15918.txt</td><td>1              </td></tr>\n",
       "\t<tr><th scope=row>4</th><td>cv003_11664.txt</td><td>1              </td></tr>\n",
       "\t<tr><th scope=row>5</th><td>cv004_11636.txt</td><td>1              </td></tr>\n",
       "\t<tr><th scope=row>6</th><td>cv005_29443.txt</td><td>1              </td></tr>\n",
       "\t<tr><th scope=row>7</th><td>cv006_15448.txt</td><td>1              </td></tr>\n",
       "\t<tr><th scope=row>8</th><td>cv007_4968.txt </td><td>1              </td></tr>\n",
       "\t<tr><th scope=row>10</th><td>cv009_29592.txt</td><td>1              </td></tr>\n",
       "\t<tr><th scope=row>11</th><td>cv010_29198.txt</td><td>1              </td></tr>\n",
       "\t<tr><th scope=row>15</th><td>cv014_13924.txt</td><td>1              </td></tr>\n",
       "\t<tr><th scope=row>17</th><td>cv016_4659.txt </td><td>1              </td></tr>\n",
       "\t<tr><th scope=row>19</th><td>cv018_20137.txt</td><td>1              </td></tr>\n",
       "\t<tr><th scope=row>21</th><td>cv020_8825.txt </td><td>1              </td></tr>\n",
       "\t<tr><th scope=row>22</th><td>cv021_15838.txt</td><td>1              </td></tr>\n",
       "\t<tr><th scope=row>25</th><td>cv024_6778.txt </td><td>2              </td></tr>\n",
       "\t<tr><th scope=row>26</th><td>cv025_3108.txt </td><td>1              </td></tr>\n",
       "\t<tr><th scope=row>27</th><td>cv026_29325.txt</td><td>1              </td></tr>\n",
       "\t<tr><th scope=row>28</th><td>cv027_25219.txt</td><td>1              </td></tr>\n",
       "\t<tr><th scope=row>31</th><td>cv030_21593.txt</td><td>2              </td></tr>\n",
       "\t<tr><th scope=row>32</th><td>cv031_18452.txt</td><td>1              </td></tr>\n",
       "\t<tr><th scope=row>34</th><td>cv033_24444.txt</td><td>2              </td></tr>\n",
       "\t<tr><th scope=row>35</th><td>cv034_29647.txt</td><td>2              </td></tr>\n",
       "\t<tr><th scope=row>38</th><td>cv037_18510.txt</td><td>1              </td></tr>\n",
       "\t<tr><th scope=row>41</th><td>cv040_8276.txt </td><td>1              </td></tr>\n",
       "\t<tr><th scope=row>42</th><td>cv041_21113.txt</td><td>1              </td></tr>\n",
       "\t<tr><th scope=row>43</th><td>cv042_10982.txt</td><td>1              </td></tr>\n",
       "\t<tr><th scope=row>45</th><td>cv044_16969.txt</td><td>1              </td></tr>\n",
       "\t<tr><th scope=row>52</th><td>cv051_10306.txt</td><td>1              </td></tr>\n",
       "\t<tr><th scope=row>54</th><td>cv053_21822.txt</td><td>1              </td></tr>\n",
       "\t<tr><th scope=row>56</th><td>cv055_8338.txt </td><td>1              </td></tr>\n",
       "\t<tr><th scope=row>...</th><td>...</td><td>...</td></tr>\n",
       "\t<tr><th scope=row>931</th><td>cv930_13475.txt</td><td>1              </td></tr>\n",
       "\t<tr><th scope=row>934</th><td>cv933_23776.txt</td><td>2              </td></tr>\n",
       "\t<tr><th scope=row>935</th><td>cv934_19027.txt</td><td>1              </td></tr>\n",
       "\t<tr><th scope=row>936</th><td>cv935_23841.txt</td><td>1              </td></tr>\n",
       "\t<tr><th scope=row>939</th><td>cv938_10220.txt</td><td>1              </td></tr>\n",
       "\t<tr><th scope=row>943</th><td>cv942_17082.txt</td><td>2              </td></tr>\n",
       "\t<tr><th scope=row>946</th><td>cv945_12160.txt</td><td>1              </td></tr>\n",
       "\t<tr><th scope=row>947</th><td>cv946_18658.txt</td><td>1              </td></tr>\n",
       "\t<tr><th scope=row>950</th><td>cv949_20112.txt</td><td>2              </td></tr>\n",
       "\t<tr><th scope=row>952</th><td>cv951_10926.txt</td><td>1              </td></tr>\n",
       "\t<tr><th scope=row>953</th><td>cv952_25240.txt</td><td>1              </td></tr>\n",
       "\t<tr><th scope=row>955</th><td>cv954_18628.txt</td><td>1              </td></tr>\n",
       "\t<tr><th scope=row>961</th><td>cv960_29007.txt</td><td>1              </td></tr>\n",
       "\t<tr><th scope=row>963</th><td>cv962_9803.txt </td><td>2              </td></tr>\n",
       "\t<tr><th scope=row>964</th><td>cv963_6895.txt </td><td>2              </td></tr>\n",
       "\t<tr><th scope=row>965</th><td>cv964_6021.txt </td><td>1              </td></tr>\n",
       "\t<tr><th scope=row>968</th><td>cv967_5788.txt </td><td>2              </td></tr>\n",
       "\t<tr><th scope=row>971</th><td>cv970_18450.txt</td><td>1              </td></tr>\n",
       "\t<tr><th scope=row>972</th><td>cv971_10874.txt</td><td>2              </td></tr>\n",
       "\t<tr><th scope=row>974</th><td>cv973_10066.txt</td><td>1              </td></tr>\n",
       "\t<tr><th scope=row>979</th><td>cv978_20929.txt</td><td>1              </td></tr>\n",
       "\t<tr><th scope=row>980</th><td>cv979_18921.txt</td><td>1              </td></tr>\n",
       "\t<tr><th scope=row>982</th><td>cv981_14989.txt</td><td>2              </td></tr>\n",
       "\t<tr><th scope=row>986</th><td>cv985_6359.txt </td><td>1              </td></tr>\n",
       "\t<tr><th scope=row>987</th><td>cv986_13527.txt</td><td>1              </td></tr>\n",
       "\t<tr><th scope=row>989</th><td>cv988_18740.txt</td><td>1              </td></tr>\n",
       "\t<tr><th scope=row>991</th><td>cv990_11591.txt</td><td>3              </td></tr>\n",
       "\t<tr><th scope=row>996</th><td>cv995_21821.txt</td><td>1              </td></tr>\n",
       "\t<tr><th scope=row>998</th><td>cv997_5046.txt </td><td>1              </td></tr>\n",
       "\t<tr><th scope=row>999</th><td>cv998_14111.txt</td><td>2              </td></tr>\n",
       "</tbody>\n",
       "</table>\n"
      ],
      "text/latex": [
       "\\begin{tabular}{r|ll}\n",
       "  & File & Count\\\\\n",
       "\\hline\n",
       "\t1 & cv000\\_29590.txt & 1                \\\\\n",
       "\t3 & cv002\\_15918.txt & 1                \\\\\n",
       "\t4 & cv003\\_11664.txt & 1                \\\\\n",
       "\t5 & cv004\\_11636.txt & 1                \\\\\n",
       "\t6 & cv005\\_29443.txt & 1                \\\\\n",
       "\t7 & cv006\\_15448.txt & 1                \\\\\n",
       "\t8 & cv007\\_4968.txt  & 1                \\\\\n",
       "\t10 & cv009\\_29592.txt & 1                \\\\\n",
       "\t11 & cv010\\_29198.txt & 1                \\\\\n",
       "\t15 & cv014\\_13924.txt & 1                \\\\\n",
       "\t17 & cv016\\_4659.txt  & 1                \\\\\n",
       "\t19 & cv018\\_20137.txt & 1                \\\\\n",
       "\t21 & cv020\\_8825.txt  & 1                \\\\\n",
       "\t22 & cv021\\_15838.txt & 1                \\\\\n",
       "\t25 & cv024\\_6778.txt  & 2                \\\\\n",
       "\t26 & cv025\\_3108.txt  & 1                \\\\\n",
       "\t27 & cv026\\_29325.txt & 1                \\\\\n",
       "\t28 & cv027\\_25219.txt & 1                \\\\\n",
       "\t31 & cv030\\_21593.txt & 2                \\\\\n",
       "\t32 & cv031\\_18452.txt & 1                \\\\\n",
       "\t34 & cv033\\_24444.txt & 2                \\\\\n",
       "\t35 & cv034\\_29647.txt & 2                \\\\\n",
       "\t38 & cv037\\_18510.txt & 1                \\\\\n",
       "\t41 & cv040\\_8276.txt  & 1                \\\\\n",
       "\t42 & cv041\\_21113.txt & 1                \\\\\n",
       "\t43 & cv042\\_10982.txt & 1                \\\\\n",
       "\t45 & cv044\\_16969.txt & 1                \\\\\n",
       "\t52 & cv051\\_10306.txt & 1                \\\\\n",
       "\t54 & cv053\\_21822.txt & 1                \\\\\n",
       "\t56 & cv055\\_8338.txt  & 1                \\\\\n",
       "\t... & ... & ...\\\\\n",
       "\t931 & cv930\\_13475.txt & 1                \\\\\n",
       "\t934 & cv933\\_23776.txt & 2                \\\\\n",
       "\t935 & cv934\\_19027.txt & 1                \\\\\n",
       "\t936 & cv935\\_23841.txt & 1                \\\\\n",
       "\t939 & cv938\\_10220.txt & 1                \\\\\n",
       "\t943 & cv942\\_17082.txt & 2                \\\\\n",
       "\t946 & cv945\\_12160.txt & 1                \\\\\n",
       "\t947 & cv946\\_18658.txt & 1                \\\\\n",
       "\t950 & cv949\\_20112.txt & 2                \\\\\n",
       "\t952 & cv951\\_10926.txt & 1                \\\\\n",
       "\t953 & cv952\\_25240.txt & 1                \\\\\n",
       "\t955 & cv954\\_18628.txt & 1                \\\\\n",
       "\t961 & cv960\\_29007.txt & 1                \\\\\n",
       "\t963 & cv962\\_9803.txt  & 2                \\\\\n",
       "\t964 & cv963\\_6895.txt  & 2                \\\\\n",
       "\t965 & cv964\\_6021.txt  & 1                \\\\\n",
       "\t968 & cv967\\_5788.txt  & 2                \\\\\n",
       "\t971 & cv970\\_18450.txt & 1                \\\\\n",
       "\t972 & cv971\\_10874.txt & 2                \\\\\n",
       "\t974 & cv973\\_10066.txt & 1                \\\\\n",
       "\t979 & cv978\\_20929.txt & 1                \\\\\n",
       "\t980 & cv979\\_18921.txt & 1                \\\\\n",
       "\t982 & cv981\\_14989.txt & 2                \\\\\n",
       "\t986 & cv985\\_6359.txt  & 1                \\\\\n",
       "\t987 & cv986\\_13527.txt & 1                \\\\\n",
       "\t989 & cv988\\_18740.txt & 1                \\\\\n",
       "\t991 & cv990\\_11591.txt & 3                \\\\\n",
       "\t996 & cv995\\_21821.txt & 1                \\\\\n",
       "\t998 & cv997\\_5046.txt  & 1                \\\\\n",
       "\t999 & cv998\\_14111.txt & 2                \\\\\n",
       "\\end{tabular}\n"
      ],
      "text/markdown": [
       "\n",
       "| <!--/--> | File | Count | \n",
       "|---|---|---|---|---|---|---|---|---|---|---|---|---|---|---|---|---|---|---|---|---|---|---|---|---|---|---|---|---|---|---|---|---|---|---|---|---|---|---|---|---|---|---|---|---|---|---|---|---|---|---|---|---|---|---|---|---|---|---|---|---|\n",
       "| 1 | cv000_29590.txt | 1               | \n",
       "| 3 | cv002_15918.txt | 1               | \n",
       "| 4 | cv003_11664.txt | 1               | \n",
       "| 5 | cv004_11636.txt | 1               | \n",
       "| 6 | cv005_29443.txt | 1               | \n",
       "| 7 | cv006_15448.txt | 1               | \n",
       "| 8 | cv007_4968.txt  | 1               | \n",
       "| 10 | cv009_29592.txt | 1               | \n",
       "| 11 | cv010_29198.txt | 1               | \n",
       "| 15 | cv014_13924.txt | 1               | \n",
       "| 17 | cv016_4659.txt  | 1               | \n",
       "| 19 | cv018_20137.txt | 1               | \n",
       "| 21 | cv020_8825.txt  | 1               | \n",
       "| 22 | cv021_15838.txt | 1               | \n",
       "| 25 | cv024_6778.txt  | 2               | \n",
       "| 26 | cv025_3108.txt  | 1               | \n",
       "| 27 | cv026_29325.txt | 1               | \n",
       "| 28 | cv027_25219.txt | 1               | \n",
       "| 31 | cv030_21593.txt | 2               | \n",
       "| 32 | cv031_18452.txt | 1               | \n",
       "| 34 | cv033_24444.txt | 2               | \n",
       "| 35 | cv034_29647.txt | 2               | \n",
       "| 38 | cv037_18510.txt | 1               | \n",
       "| 41 | cv040_8276.txt  | 1               | \n",
       "| 42 | cv041_21113.txt | 1               | \n",
       "| 43 | cv042_10982.txt | 1               | \n",
       "| 45 | cv044_16969.txt | 1               | \n",
       "| 52 | cv051_10306.txt | 1               | \n",
       "| 54 | cv053_21822.txt | 1               | \n",
       "| 56 | cv055_8338.txt  | 1               | \n",
       "| ... | ... | ... | \n",
       "| 931 | cv930_13475.txt | 1               | \n",
       "| 934 | cv933_23776.txt | 2               | \n",
       "| 935 | cv934_19027.txt | 1               | \n",
       "| 936 | cv935_23841.txt | 1               | \n",
       "| 939 | cv938_10220.txt | 1               | \n",
       "| 943 | cv942_17082.txt | 2               | \n",
       "| 946 | cv945_12160.txt | 1               | \n",
       "| 947 | cv946_18658.txt | 1               | \n",
       "| 950 | cv949_20112.txt | 2               | \n",
       "| 952 | cv951_10926.txt | 1               | \n",
       "| 953 | cv952_25240.txt | 1               | \n",
       "| 955 | cv954_18628.txt | 1               | \n",
       "| 961 | cv960_29007.txt | 1               | \n",
       "| 963 | cv962_9803.txt  | 2               | \n",
       "| 964 | cv963_6895.txt  | 2               | \n",
       "| 965 | cv964_6021.txt  | 1               | \n",
       "| 968 | cv967_5788.txt  | 2               | \n",
       "| 971 | cv970_18450.txt | 1               | \n",
       "| 972 | cv971_10874.txt | 2               | \n",
       "| 974 | cv973_10066.txt | 1               | \n",
       "| 979 | cv978_20929.txt | 1               | \n",
       "| 980 | cv979_18921.txt | 1               | \n",
       "| 982 | cv981_14989.txt | 2               | \n",
       "| 986 | cv985_6359.txt  | 1               | \n",
       "| 987 | cv986_13527.txt | 1               | \n",
       "| 989 | cv988_18740.txt | 1               | \n",
       "| 991 | cv990_11591.txt | 3               | \n",
       "| 996 | cv995_21821.txt | 1               | \n",
       "| 998 | cv997_5046.txt  | 1               | \n",
       "| 999 | cv998_14111.txt | 2               | \n",
       "\n",
       "\n"
      ],
      "text/plain": [
       "    File            Count\n",
       "1   cv000_29590.txt 1    \n",
       "3   cv002_15918.txt 1    \n",
       "4   cv003_11664.txt 1    \n",
       "5   cv004_11636.txt 1    \n",
       "6   cv005_29443.txt 1    \n",
       "7   cv006_15448.txt 1    \n",
       "8   cv007_4968.txt  1    \n",
       "10  cv009_29592.txt 1    \n",
       "11  cv010_29198.txt 1    \n",
       "15  cv014_13924.txt 1    \n",
       "17  cv016_4659.txt  1    \n",
       "19  cv018_20137.txt 1    \n",
       "21  cv020_8825.txt  1    \n",
       "22  cv021_15838.txt 1    \n",
       "25  cv024_6778.txt  2    \n",
       "26  cv025_3108.txt  1    \n",
       "27  cv026_29325.txt 1    \n",
       "28  cv027_25219.txt 1    \n",
       "31  cv030_21593.txt 2    \n",
       "32  cv031_18452.txt 1    \n",
       "34  cv033_24444.txt 2    \n",
       "35  cv034_29647.txt 2    \n",
       "38  cv037_18510.txt 1    \n",
       "41  cv040_8276.txt  1    \n",
       "42  cv041_21113.txt 1    \n",
       "43  cv042_10982.txt 1    \n",
       "45  cv044_16969.txt 1    \n",
       "52  cv051_10306.txt 1    \n",
       "54  cv053_21822.txt 1    \n",
       "56  cv055_8338.txt  1    \n",
       "... ...             ...  \n",
       "931 cv930_13475.txt 1    \n",
       "934 cv933_23776.txt 2    \n",
       "935 cv934_19027.txt 1    \n",
       "936 cv935_23841.txt 1    \n",
       "939 cv938_10220.txt 1    \n",
       "943 cv942_17082.txt 2    \n",
       "946 cv945_12160.txt 1    \n",
       "947 cv946_18658.txt 1    \n",
       "950 cv949_20112.txt 2    \n",
       "952 cv951_10926.txt 1    \n",
       "953 cv952_25240.txt 1    \n",
       "955 cv954_18628.txt 1    \n",
       "961 cv960_29007.txt 1    \n",
       "963 cv962_9803.txt  2    \n",
       "964 cv963_6895.txt  2    \n",
       "965 cv964_6021.txt  1    \n",
       "968 cv967_5788.txt  2    \n",
       "971 cv970_18450.txt 1    \n",
       "972 cv971_10874.txt 2    \n",
       "974 cv973_10066.txt 1    \n",
       "979 cv978_20929.txt 1    \n",
       "980 cv979_18921.txt 1    \n",
       "982 cv981_14989.txt 2    \n",
       "986 cv985_6359.txt  1    \n",
       "987 cv986_13527.txt 1    \n",
       "989 cv988_18740.txt 1    \n",
       "991 cv990_11591.txt 3    \n",
       "996 cv995_21821.txt 1    \n",
       "998 cv997_5046.txt  1    \n",
       "999 cv998_14111.txt 2    "
      ]
     },
     "metadata": {},
     "output_type": "display_data"
    }
   ],
   "source": [
    "countMatchesPerRow(matches.an) "
   ]
  },
  {
   "cell_type": "markdown",
   "metadata": {},
   "source": [
    "Let’s see which patterns we have found."
   ]
  },
  {
   "cell_type": "code",
   "execution_count": 41,
   "metadata": {},
   "outputs": [
    {
     "data": {
      "text/html": [
       "<table>\n",
       "<thead><tr><th></th><th scope=col>Entity</th><th scope=col>Count</th></tr></thead>\n",
       "<tbody>\n",
       "\t<tr><th scope=row>3</th><td> al pacino         </td><td> 6                 </td></tr>\n",
       "\t<tr><th scope=row>8</th><td> alan rickman      </td><td> 4                 </td></tr>\n",
       "\t<tr><th scope=row>13</th><td> albert finney     </td><td> 1                 </td></tr>\n",
       "\t<tr><th scope=row>18</th><td> alex cox          </td><td> 1                 </td></tr>\n",
       "\t<tr><th scope=row>25</th><td> andie macdowell   </td><td> 3                 </td></tr>\n",
       "\t<tr><th scope=row>34</th><td> antonio banderas  </td><td> 5                 </td></tr>\n",
       "\t<tr><th scope=row>43</th><td> ashley judd       </td><td> 6                 </td></tr>\n",
       "\t<tr><th scope=row>53</th><td> ava gardner       </td><td> 1                 </td></tr>\n",
       "\t<tr><th scope=row>69</th><td> blake edwards     </td><td> 1                 </td></tr>\n",
       "\t<tr><th scope=row>75</th><td> brad pitt         </td><td>11                 </td></tr>\n",
       "\t<tr><th scope=row>80</th><td> bruce lee         </td><td> 5                 </td></tr>\n",
       "\t<tr><th scope=row>85</th><td> buster keaton     </td><td> 1                 </td></tr>\n",
       "\t<tr><th scope=row>90</th><td> cameron diaz      </td><td>15                 </td></tr>\n",
       "\t<tr><th scope=row>105</th><td> cary grant        </td><td> 2                 </td></tr>\n",
       "\t<tr><th scope=row>116</th><td> charlton heston   </td><td> 3                 </td></tr>\n",
       "\t<tr><th scope=row>129</th><td> christopher lee   </td><td> 2                 </td></tr>\n",
       "\t<tr><th scope=row>134</th><td> clark gable       </td><td> 1                 </td></tr>\n",
       "\t<tr><th scope=row>144</th><td> clint eastwood    </td><td> 5                 </td></tr>\n",
       "\t<tr><th scope=row>152</th><td> dan aykroyd       </td><td> 2                 </td></tr>\n",
       "\t<tr><th scope=row>161</th><td> dark angel        </td><td> 2                 </td></tr>\n",
       "\t<tr><th scope=row>167</th><td> data              </td><td> 5                 </td></tr>\n",
       "\t<tr><th scope=row>177</th><td> denise richards   </td><td> 9                 </td></tr>\n",
       "\t<tr><th scope=row>182</th><td> desmond llewelyn  </td><td> 2                 </td></tr>\n",
       "\t<tr><th scope=row>193</th><td> dustin hoffman    </td><td> 8                 </td></tr>\n",
       "\t<tr><th scope=row>232</th><td> fish              </td><td>20                 </td></tr>\n",
       "\t<tr><th scope=row>235</th><td> franco zeffirelli </td><td> 1                 </td></tr>\n",
       "\t<tr><th scope=row>239</th><td> fred gwynne       </td><td> 1                 </td></tr>\n",
       "\t<tr><th scope=row>241</th><td> freddie prinze    </td><td> 3                 </td></tr>\n",
       "\t<tr><th scope=row>242</th><td> gary cooper       </td><td> 1                 </td></tr>\n",
       "\t<tr><th scope=row>251</th><td> gillian anderson  </td><td> 5                 </td></tr>\n",
       "\t<tr><th scope=row>...</th><td>...</td><td>...</td></tr>\n",
       "\t<tr><th scope=row>2281</th><td> kathleen quinlan </td><td> 2                </td></tr>\n",
       "\t<tr><th scope=row>2307</th><td> kieran culkin    </td><td> 1                </td></tr>\n",
       "\t<tr><th scope=row>2501</th><td> max schreck      </td><td> 2                </td></tr>\n",
       "\t<tr><th scope=row>2514</th><td> michael chapman  </td><td> 1                </td></tr>\n",
       "\t<tr><th scope=row>2538</th><td> mika boorem      </td><td> 2                </td></tr>\n",
       "\t<tr><th scope=row>2599</th><td> nanni moretti    </td><td> 1                </td></tr>\n",
       "\t<tr><th scope=row>2656</th><td> oded fehr        </td><td> 1                </td></tr>\n",
       "\t<tr><th scope=row>2663</th><td> orson bean       </td><td> 1                </td></tr>\n",
       "\t<tr><th scope=row>2714</th><td> peter macneill   </td><td> 2                </td></tr>\n",
       "\t<tr><th scope=row>2732</th><td> piper laurie     </td><td> 1                </td></tr>\n",
       "\t<tr><th scope=row>2890</th><td> ron perlman      </td><td> 2                </td></tr>\n",
       "\t<tr><th scope=row>2946</th><td> sam neill        </td><td> 4                </td></tr>\n",
       "\t<tr><th scope=row>2965</th><td> santo            </td><td> 1                </td></tr>\n",
       "\t<tr><th scope=row>3060</th><td> straight up      </td><td> 1                </td></tr>\n",
       "\t<tr><th scope=row>3100</th><td> thunder          </td><td> 3                </td></tr>\n",
       "\t<tr><th scope=row>3109</th><td> timothy olyphant </td><td> 5                </td></tr>\n",
       "\t<tr><th scope=row>3114</th><td> timothy spall    </td><td> 2                </td></tr>\n",
       "\t<tr><th scope=row>3149</th><td> tsutomu yamazaki </td><td> 1                </td></tr>\n",
       "\t<tr><th scope=row>3156</th><td> twilight         </td><td> 8                </td></tr>\n",
       "\t<tr><th scope=row>3170</th><td> vanity           </td><td> 8                </td></tr>\n",
       "\t<tr><th scope=row>3203</th><td> william hickey   </td><td> 1                </td></tr>\n",
       "\t<tr><th scope=row>3211</th><td> william petersen </td><td> 1                </td></tr>\n",
       "\t<tr><th scope=row>3220</th><td> wink             </td><td> 5                </td></tr>\n",
       "\t<tr><th scope=row>3584</th><td> eartha           </td><td> 1                </td></tr>\n",
       "\t<tr><th scope=row>3618</th><td> eriq ebouaney    </td><td> 1                </td></tr>\n",
       "\t<tr><th scope=row>3655</th><td> gem              </td><td>28                </td></tr>\n",
       "\t<tr><th scope=row>3784</th><td> jerry springer   </td><td> 7                </td></tr>\n",
       "\t<tr><th scope=row>4117</th><td> oliver stone     </td><td> 7                </td></tr>\n",
       "\t<tr><th scope=row>4123</th><td> oprah winfrey    </td><td> 1                </td></tr>\n",
       "\t<tr><th scope=row>4276</th><td> sami bouajila    </td><td> 1                </td></tr>\n",
       "</tbody>\n",
       "</table>\n"
      ],
      "text/latex": [
       "\\begin{tabular}{r|ll}\n",
       "  & Entity & Count\\\\\n",
       "\\hline\n",
       "\t3 &  al pacino          &  6                 \\\\\n",
       "\t8 &  alan rickman       &  4                 \\\\\n",
       "\t13 &  albert finney      &  1                 \\\\\n",
       "\t18 &  alex cox           &  1                 \\\\\n",
       "\t25 &  andie macdowell    &  3                 \\\\\n",
       "\t34 &  antonio banderas   &  5                 \\\\\n",
       "\t43 &  ashley judd        &  6                 \\\\\n",
       "\t53 &  ava gardner        &  1                 \\\\\n",
       "\t69 &  blake edwards      &  1                 \\\\\n",
       "\t75 &  brad pitt          & 11                 \\\\\n",
       "\t80 &  bruce lee          &  5                 \\\\\n",
       "\t85 &  buster keaton      &  1                 \\\\\n",
       "\t90 &  cameron diaz       & 15                 \\\\\n",
       "\t105 &  cary grant         &  2                 \\\\\n",
       "\t116 &  charlton heston    &  3                 \\\\\n",
       "\t129 &  christopher lee    &  2                 \\\\\n",
       "\t134 &  clark gable        &  1                 \\\\\n",
       "\t144 &  clint eastwood     &  5                 \\\\\n",
       "\t152 &  dan aykroyd        &  2                 \\\\\n",
       "\t161 &  dark angel         &  2                 \\\\\n",
       "\t167 &  data               &  5                 \\\\\n",
       "\t177 &  denise richards    &  9                 \\\\\n",
       "\t182 &  desmond llewelyn   &  2                 \\\\\n",
       "\t193 &  dustin hoffman     &  8                 \\\\\n",
       "\t232 &  fish               & 20                 \\\\\n",
       "\t235 &  franco zeffirelli  &  1                 \\\\\n",
       "\t239 &  fred gwynne        &  1                 \\\\\n",
       "\t241 &  freddie prinze     &  3                 \\\\\n",
       "\t242 &  gary cooper        &  1                 \\\\\n",
       "\t251 &  gillian anderson   &  5                 \\\\\n",
       "\t... & ... & ...\\\\\n",
       "\t2281 &  kathleen quinlan  &  2                \\\\\n",
       "\t2307 &  kieran culkin     &  1                \\\\\n",
       "\t2501 &  max schreck       &  2                \\\\\n",
       "\t2514 &  michael chapman   &  1                \\\\\n",
       "\t2538 &  mika boorem       &  2                \\\\\n",
       "\t2599 &  nanni moretti     &  1                \\\\\n",
       "\t2656 &  oded fehr         &  1                \\\\\n",
       "\t2663 &  orson bean        &  1                \\\\\n",
       "\t2714 &  peter macneill    &  2                \\\\\n",
       "\t2732 &  piper laurie      &  1                \\\\\n",
       "\t2890 &  ron perlman       &  2                \\\\\n",
       "\t2946 &  sam neill         &  4                \\\\\n",
       "\t2965 &  santo             &  1                \\\\\n",
       "\t3060 &  straight up       &  1                \\\\\n",
       "\t3100 &  thunder           &  3                \\\\\n",
       "\t3109 &  timothy olyphant  &  5                \\\\\n",
       "\t3114 &  timothy spall     &  2                \\\\\n",
       "\t3149 &  tsutomu yamazaki  &  1                \\\\\n",
       "\t3156 &  twilight          &  8                \\\\\n",
       "\t3170 &  vanity            &  8                \\\\\n",
       "\t3203 &  william hickey    &  1                \\\\\n",
       "\t3211 &  william petersen  &  1                \\\\\n",
       "\t3220 &  wink              &  5                \\\\\n",
       "\t3584 &  eartha            &  1                \\\\\n",
       "\t3618 &  eriq ebouaney     &  1                \\\\\n",
       "\t3655 &  gem               & 28                \\\\\n",
       "\t3784 &  jerry springer    &  7                \\\\\n",
       "\t4117 &  oliver stone      &  7                \\\\\n",
       "\t4123 &  oprah winfrey     &  1                \\\\\n",
       "\t4276 &  sami bouajila     &  1                \\\\\n",
       "\\end{tabular}\n"
      ],
      "text/markdown": [
       "\n",
       "| <!--/--> | Entity | Count | \n",
       "|---|---|---|---|---|---|---|---|---|---|---|---|---|---|---|---|---|---|---|---|---|---|---|---|---|---|---|---|---|---|---|---|---|---|---|---|---|---|---|---|---|---|---|---|---|---|---|---|---|---|---|---|---|---|---|---|---|---|---|---|---|\n",
       "| 3 |  al pacino          |  6                  | \n",
       "| 8 |  alan rickman       |  4                  | \n",
       "| 13 |  albert finney      |  1                  | \n",
       "| 18 |  alex cox           |  1                  | \n",
       "| 25 |  andie macdowell    |  3                  | \n",
       "| 34 |  antonio banderas   |  5                  | \n",
       "| 43 |  ashley judd        |  6                  | \n",
       "| 53 |  ava gardner        |  1                  | \n",
       "| 69 |  blake edwards      |  1                  | \n",
       "| 75 |  brad pitt          | 11                  | \n",
       "| 80 |  bruce lee          |  5                  | \n",
       "| 85 |  buster keaton      |  1                  | \n",
       "| 90 |  cameron diaz       | 15                  | \n",
       "| 105 |  cary grant         |  2                  | \n",
       "| 116 |  charlton heston    |  3                  | \n",
       "| 129 |  christopher lee    |  2                  | \n",
       "| 134 |  clark gable        |  1                  | \n",
       "| 144 |  clint eastwood     |  5                  | \n",
       "| 152 |  dan aykroyd        |  2                  | \n",
       "| 161 |  dark angel         |  2                  | \n",
       "| 167 |  data               |  5                  | \n",
       "| 177 |  denise richards    |  9                  | \n",
       "| 182 |  desmond llewelyn   |  2                  | \n",
       "| 193 |  dustin hoffman     |  8                  | \n",
       "| 232 |  fish               | 20                  | \n",
       "| 235 |  franco zeffirelli  |  1                  | \n",
       "| 239 |  fred gwynne        |  1                  | \n",
       "| 241 |  freddie prinze     |  3                  | \n",
       "| 242 |  gary cooper        |  1                  | \n",
       "| 251 |  gillian anderson   |  5                  | \n",
       "| ... | ... | ... | \n",
       "| 2281 |  kathleen quinlan  |  2                 | \n",
       "| 2307 |  kieran culkin     |  1                 | \n",
       "| 2501 |  max schreck       |  2                 | \n",
       "| 2514 |  michael chapman   |  1                 | \n",
       "| 2538 |  mika boorem       |  2                 | \n",
       "| 2599 |  nanni moretti     |  1                 | \n",
       "| 2656 |  oded fehr         |  1                 | \n",
       "| 2663 |  orson bean        |  1                 | \n",
       "| 2714 |  peter macneill    |  2                 | \n",
       "| 2732 |  piper laurie      |  1                 | \n",
       "| 2890 |  ron perlman       |  2                 | \n",
       "| 2946 |  sam neill         |  4                 | \n",
       "| 2965 |  santo             |  1                 | \n",
       "| 3060 |  straight up       |  1                 | \n",
       "| 3100 |  thunder           |  3                 | \n",
       "| 3109 |  timothy olyphant  |  5                 | \n",
       "| 3114 |  timothy spall     |  2                 | \n",
       "| 3149 |  tsutomu yamazaki  |  1                 | \n",
       "| 3156 |  twilight          |  8                 | \n",
       "| 3170 |  vanity            |  8                 | \n",
       "| 3203 |  william hickey    |  1                 | \n",
       "| 3211 |  william petersen  |  1                 | \n",
       "| 3220 |  wink              |  5                 | \n",
       "| 3584 |  eartha            |  1                 | \n",
       "| 3618 |  eriq ebouaney     |  1                 | \n",
       "| 3655 |  gem               | 28                 | \n",
       "| 3784 |  jerry springer    |  7                 | \n",
       "| 4117 |  oliver stone      |  7                 | \n",
       "| 4123 |  oprah winfrey     |  1                 | \n",
       "| 4276 |  sami bouajila     |  1                 | \n",
       "\n",
       "\n"
      ],
      "text/plain": [
       "     Entity              Count\n",
       "3     al pacino           6   \n",
       "8     alan rickman        4   \n",
       "13    albert finney       1   \n",
       "18    alex cox            1   \n",
       "25    andie macdowell     3   \n",
       "34    antonio banderas    5   \n",
       "43    ashley judd         6   \n",
       "53    ava gardner         1   \n",
       "69    blake edwards       1   \n",
       "75    brad pitt          11   \n",
       "80    bruce lee           5   \n",
       "85    buster keaton       1   \n",
       "90    cameron diaz       15   \n",
       "105   cary grant          2   \n",
       "116   charlton heston     3   \n",
       "129   christopher lee     2   \n",
       "134   clark gable         1   \n",
       "144   clint eastwood      5   \n",
       "152   dan aykroyd         2   \n",
       "161   dark angel          2   \n",
       "167   data                5   \n",
       "177   denise richards     9   \n",
       "182   desmond llewelyn    2   \n",
       "193   dustin hoffman      8   \n",
       "232   fish               20   \n",
       "235   franco zeffirelli   1   \n",
       "239   fred gwynne         1   \n",
       "241   freddie prinze      3   \n",
       "242   gary cooper         1   \n",
       "251   gillian anderson    5   \n",
       "...  ...                 ...  \n",
       "2281  kathleen quinlan    2   \n",
       "2307  kieran culkin       1   \n",
       "2501  max schreck         2   \n",
       "2514  michael chapman     1   \n",
       "2538  mika boorem         2   \n",
       "2599  nanni moretti       1   \n",
       "2656  oded fehr           1   \n",
       "2663  orson bean          1   \n",
       "2714  peter macneill      2   \n",
       "2732  piper laurie        1   \n",
       "2890  ron perlman         2   \n",
       "2946  sam neill           4   \n",
       "2965  santo               1   \n",
       "3060  straight up         1   \n",
       "3100  thunder             3   \n",
       "3109  timothy olyphant    5   \n",
       "3114  timothy spall       2   \n",
       "3149  tsutomu yamazaki    1   \n",
       "3156  twilight            8   \n",
       "3170  vanity              8   \n",
       "3203  william hickey      1   \n",
       "3211  william petersen    1   \n",
       "3220  wink                5   \n",
       "3584  eartha              1   \n",
       "3618  eriq ebouaney       1   \n",
       "3655  gem                28   \n",
       "3784  jerry springer      7   \n",
       "4117  oliver stone        7   \n",
       "4123  oprah winfrey       1   \n",
       "4276  sami bouajila       1   "
      ]
     },
     "metadata": {},
     "output_type": "display_data"
    }
   ],
   "source": [
    "countColum = countMatchesPerColumn(matches.an) \n",
    "countColum[countColum$Count != 0,]"
   ]
  },
  {
   "cell_type": "markdown",
   "metadata": {},
   "source": [
    "Now we write the results to a file."
   ]
  },
  {
   "cell_type": "code",
   "execution_count": 42,
   "metadata": {},
   "outputs": [],
   "source": [
    "write.table(matches.an, file = \"allEntitiesGazetteer.csv\", row.names = F, na=\"\", sep=\";\")"
   ]
  },
  {
   "cell_type": "markdown",
   "metadata": {},
   "source": [
    "# Evaluate using gold standard\n",
    "Let’s put all matches in a list for comparison with a gold standard."
   ]
  },
  {
   "cell_type": "code",
   "execution_count": 43,
   "metadata": {},
   "outputs": [
    {
     "data": {
      "text/html": [
       "<table>\n",
       "<thead><tr><th scope=col>Files</th><th scope=col>Matches</th></tr></thead>\n",
       "<tbody>\n",
       "\t<tr><td>cv000_29590.txt</td><td> tim burton    </td></tr>\n",
       "\t<tr><td>cv001_18431.txt</td><td>NULL           </td></tr>\n",
       "\t<tr><td>cv002_15918.txt</td><td> meg ryan      </td></tr>\n",
       "\t<tr><td>cv003_11664.txt</td><td> paul newman   </td></tr>\n",
       "\t<tr><td>cv004_11636.txt</td><td> bruce lee     </td></tr>\n",
       "\t<tr><td>cv005_29443.txt</td><td> eriq ebouaney </td></tr>\n",
       "\t<tr><td>cv006_15448.txt</td><td> jennifer lien </td></tr>\n",
       "\t<tr><td>cv007_4968.txt </td><td> woody allen   </td></tr>\n",
       "\t<tr><td>cv008_29435.txt</td><td>NULL           </td></tr>\n",
       "\t<tr><td>cv009_29592.txt</td><td> gem           </td></tr>\n",
       "</tbody>\n",
       "</table>\n"
      ],
      "text/latex": [
       "\\begin{tabular}{r|ll}\n",
       " Files & Matches\\\\\n",
       "\\hline\n",
       "\t cv000\\_29590.txt &  tim burton      \\\\\n",
       "\t cv001\\_18431.txt & NULL             \\\\\n",
       "\t cv002\\_15918.txt &  meg ryan        \\\\\n",
       "\t cv003\\_11664.txt &  paul newman     \\\\\n",
       "\t cv004\\_11636.txt &  bruce lee       \\\\\n",
       "\t cv005\\_29443.txt &  eriq ebouaney   \\\\\n",
       "\t cv006\\_15448.txt &  jennifer lien   \\\\\n",
       "\t cv007\\_4968.txt  &  woody allen     \\\\\n",
       "\t cv008\\_29435.txt & NULL             \\\\\n",
       "\t cv009\\_29592.txt &  gem             \\\\\n",
       "\\end{tabular}\n"
      ],
      "text/markdown": [
       "\n",
       "Files | Matches | \n",
       "|---|---|---|---|---|---|---|---|---|---|\n",
       "| cv000_29590.txt |  tim burton     | \n",
       "| cv001_18431.txt | NULL            | \n",
       "| cv002_15918.txt |  meg ryan       | \n",
       "| cv003_11664.txt |  paul newman    | \n",
       "| cv004_11636.txt |  bruce lee      | \n",
       "| cv005_29443.txt |  eriq ebouaney  | \n",
       "| cv006_15448.txt |  jennifer lien  | \n",
       "| cv007_4968.txt  |  woody allen    | \n",
       "| cv008_29435.txt | NULL            | \n",
       "| cv009_29592.txt |  gem            | \n",
       "\n",
       "\n"
      ],
      "text/plain": [
       "   Files           Matches        \n",
       "1  cv000_29590.txt  tim burton    \n",
       "2  cv001_18431.txt NULL           \n",
       "3  cv002_15918.txt  meg ryan      \n",
       "4  cv003_11664.txt  paul newman   \n",
       "5  cv004_11636.txt  bruce lee     \n",
       "6  cv005_29443.txt  eriq ebouaney \n",
       "7  cv006_15448.txt  jennifer lien \n",
       "8  cv007_4968.txt   woody allen   \n",
       "9  cv008_29435.txt NULL           \n",
       "10 cv009_29592.txt  gem           "
      ]
     },
     "metadata": {},
     "output_type": "display_data"
    }
   ],
   "source": [
    "allMatches = mergeAllMatchesInLists(matches.an)\n",
    "head(allMatches,10)"
   ]
  },
  {
   "cell_type": "markdown",
   "metadata": {},
   "source": [
    "Now we load the gold standard and put all gold standard matches in a list for comparison."
   ]
  },
  {
   "cell_type": "code",
   "execution_count": 44,
   "metadata": {},
   "outputs": [
    {
     "data": {
      "text/html": [
       "<table>\n",
       "<thead><tr><th scope=col>Files</th><th scope=col>Matches</th></tr></thead>\n",
       "<tbody>\n",
       "\t<tr><td>cv000_29590.txt                                                                                                                                                                                                                                                                                                                                                                                                                                                                                                                                                                      </td><td>alan moore         , eddie campbell     , moore              , campbell           , jack               , michael jackson    , albert             , allen hughes       , peter godley       , robbie coltrane    , frederick abberline, johnny depp        , abberline          , mary kelly         , heather graham     , terry hayes        , rafael yglesias    , steve guttenberg   , tim burton         , marilyn manson     , peter deming       , martin childs      , depp               , ians holm          , joe gould          , richardson         , graham             </td></tr>\n",
       "\t<tr><td>cv001_18431.txt                                                                                                                                                                                                                                                                                                                                                                                                               </td><td>matthew broderick       , reese witherspoon       , george washington carver, tracy flick             , paul                    , max fischer             , bill murray             , broderick               , witherspoon             , jessica campbell        , tammy                   , rooney                  , campbell                , alexander payne         , tracy                   , m                       </td></tr>\n",
       "\t<tr><td>cv002_15918.txt                                                                                                                       </td><td>ryan           , hanks          , tom hanks      , joe fox        , meg ryan       , kathleen kelley, fox            , kelley         </td></tr>\n",
       "\t<tr><td>cv003_11664.txt                                                                                                                                                                                                                                                                                                                                                                                                             </td><td>john williams   , steven spielberg, spielberg       , williams        , martin brody    , roy scheider    , larry vaughn    , murray hamilton , brody           , matt hooper     , richard dreyfuss, hooper          , vaughn          , quint           , robert shaw     , hitchcock       , scheider        , dreyfuss        , shaw            , robert redford  , paul newman     , duddy kravitz   , ahab            </td></tr>\n",
       "\t<tr><td>cv004_11636.txt                                                                                                                                                                                           </td><td>herb           , jackie chan    , barry sanders  , sanders        , jackie         , chan           , bruce lee      , tim allen      , lawrence kazdan, john williams  , spielberg      , george lucas   </td></tr>\n",
       "\t<tr><td>cv005_29443.txt                                                                                                                                                                                                       </td><td>raoul peck      , lumumba         , patrice lumumba , eriq ebouaney   , helmer peck     , peck            , pascal bonitzer , patrice         , joseph kasa vubu, maka kotto      , moise tschombe  , pascal nzonzi   </td></tr>\n",
       "\t<tr><td>cv006_15448.txt                                                                                                                                                                                                                                              </td><td>tony kaye      , edward norton  , norton         , derek vinyard  , danny          , edward furlong , beverly dangelo, davin          , jennifer lien  , derek          , kaye           , avery brooks   , furlong        , dangelo        , lien           </td></tr>\n",
       "\t<tr><td>cv007_4968.txt                                                                                                                                                                                                                                                                                                                                      </td><td>betsy           , molly ringwald  , alan alda       , ringwald        , alda            , dylan walsh     , walsh           , madeline kahn   , ally sheedy     , sheedy          , anthony lapaglia, lapaglia        , stevie dee      , robert de niro  , alec baldwin    , de niro         , joe pesci       , catherine ohara , woody allen     </td></tr>\n",
       "\t<tr><td>cv008_29435.txt                                                                                                                                                                                     </td><td>lumumba         , janssens        , rudi delhem     , moise tshombe   , pascal nzonzi   , mobutu          , joseph kasa vubu, maka kotto      , peck            , bonitzer        , ebouaney        </td></tr>\n",
       "\t<tr><td>cv009_29592.txt                                                                                                                                                                   </td><td>schwartznager, stallone     , van damme    , rongguang yu , wong fei-hong, jackie chan  , fei-hong     , sze-man tsang, wong kei-ying, yen chi dan  , yuen wo ping , fox          </td></tr>\n",
       "</tbody>\n",
       "</table>\n"
      ],
      "text/latex": [
       "\\begin{tabular}{r|ll}\n",
       " Files & Matches\\\\\n",
       "\\hline\n",
       "\t cv000\\_29590.txt                                                                                                                                                                                                                                                                                                                                                                                                                                                                                                                                                                     & alan moore         , eddie campbell     , moore              , campbell           , jack               , michael jackson    , albert             , allen hughes       , peter godley       , robbie coltrane    , frederick abberline, johnny depp        , abberline          , mary kelly         , heather graham     , terry hayes        , rafael yglesias    , steve guttenberg   , tim burton         , marilyn manson     , peter deming       , martin childs      , depp               , ians holm          , joe gould          , richardson         , graham             \\\\\n",
       "\t cv001\\_18431.txt                                                                                                                                                                                                                                                                                                                                                                                                              & matthew broderick       , reese witherspoon       , george washington carver, tracy flick             , paul                    , max fischer             , bill murray             , broderick               , witherspoon             , jessica campbell        , tammy                   , rooney                  , campbell                , alexander payne         , tracy                   , m                       \\\\\n",
       "\t cv002\\_15918.txt                                                                                                                      & ryan           , hanks          , tom hanks      , joe fox        , meg ryan       , kathleen kelley, fox            , kelley         \\\\\n",
       "\t cv003\\_11664.txt                                                                                                                                                                                                                                                                                                                                                                                                            & john williams   , steven spielberg, spielberg       , williams        , martin brody    , roy scheider    , larry vaughn    , murray hamilton , brody           , matt hooper     , richard dreyfuss, hooper          , vaughn          , quint           , robert shaw     , hitchcock       , scheider        , dreyfuss        , shaw            , robert redford  , paul newman     , duddy kravitz   , ahab            \\\\\n",
       "\t cv004\\_11636.txt                                                                                                                                                                                          & herb           , jackie chan    , barry sanders  , sanders        , jackie         , chan           , bruce lee      , tim allen      , lawrence kazdan, john williams  , spielberg      , george lucas   \\\\\n",
       "\t cv005\\_29443.txt                                                                                                                                                                                                      & raoul peck      , lumumba         , patrice lumumba , eriq ebouaney   , helmer peck     , peck            , pascal bonitzer , patrice         , joseph kasa vubu, maka kotto      , moise tschombe  , pascal nzonzi   \\\\\n",
       "\t cv006\\_15448.txt                                                                                                                                                                                                                                             & tony kaye      , edward norton  , norton         , derek vinyard  , danny          , edward furlong , beverly dangelo, davin          , jennifer lien  , derek          , kaye           , avery brooks   , furlong        , dangelo        , lien           \\\\\n",
       "\t cv007\\_4968.txt                                                                                                                                                                                                                                                                                                                                     & betsy           , molly ringwald  , alan alda       , ringwald        , alda            , dylan walsh     , walsh           , madeline kahn   , ally sheedy     , sheedy          , anthony lapaglia, lapaglia        , stevie dee      , robert de niro  , alec baldwin    , de niro         , joe pesci       , catherine ohara , woody allen     \\\\\n",
       "\t cv008\\_29435.txt                                                                                                                                                                                    & lumumba         , janssens        , rudi delhem     , moise tshombe   , pascal nzonzi   , mobutu          , joseph kasa vubu, maka kotto      , peck            , bonitzer        , ebouaney        \\\\\n",
       "\t cv009\\_29592.txt                                                                                                                                                                  & schwartznager, stallone     , van damme    , rongguang yu , wong fei-hong, jackie chan  , fei-hong     , sze-man tsang, wong kei-ying, yen chi dan  , yuen wo ping , fox          \\\\\n",
       "\\end{tabular}\n"
      ],
      "text/markdown": [
       "\n",
       "Files | Matches | \n",
       "|---|---|---|---|---|---|---|---|---|---|\n",
       "| cv000_29590.txt                                                                                                                                                                                                                                                                                                                                                                                                                                                                                                                                                                       | alan moore         , eddie campbell     , moore              , campbell           , jack               , michael jackson    , albert             , allen hughes       , peter godley       , robbie coltrane    , frederick abberline, johnny depp        , abberline          , mary kelly         , heather graham     , terry hayes        , rafael yglesias    , steve guttenberg   , tim burton         , marilyn manson     , peter deming       , martin childs      , depp               , ians holm          , joe gould          , richardson         , graham              | \n",
       "| cv001_18431.txt                                                                                                                                                                                                                                                                                                                                                                                                                | matthew broderick       , reese witherspoon       , george washington carver, tracy flick             , paul                    , max fischer             , bill murray             , broderick               , witherspoon             , jessica campbell        , tammy                   , rooney                  , campbell                , alexander payne         , tracy                   , m                        | \n",
       "| cv002_15918.txt                                                                                                                        | ryan           , hanks          , tom hanks      , joe fox        , meg ryan       , kathleen kelley, fox            , kelley          | \n",
       "| cv003_11664.txt                                                                                                                                                                                                                                                                                                                                                                                                              | john williams   , steven spielberg, spielberg       , williams        , martin brody    , roy scheider    , larry vaughn    , murray hamilton , brody           , matt hooper     , richard dreyfuss, hooper          , vaughn          , quint           , robert shaw     , hitchcock       , scheider        , dreyfuss        , shaw            , robert redford  , paul newman     , duddy kravitz   , ahab             | \n",
       "| cv004_11636.txt                                                                                                                                                                                            | herb           , jackie chan    , barry sanders  , sanders        , jackie         , chan           , bruce lee      , tim allen      , lawrence kazdan, john williams  , spielberg      , george lucas    | \n",
       "| cv005_29443.txt                                                                                                                                                                                                        | raoul peck      , lumumba         , patrice lumumba , eriq ebouaney   , helmer peck     , peck            , pascal bonitzer , patrice         , joseph kasa vubu, maka kotto      , moise tschombe  , pascal nzonzi    | \n",
       "| cv006_15448.txt                                                                                                                                                                                                                                               | tony kaye      , edward norton  , norton         , derek vinyard  , danny          , edward furlong , beverly dangelo, davin          , jennifer lien  , derek          , kaye           , avery brooks   , furlong        , dangelo        , lien            | \n",
       "| cv007_4968.txt                                                                                                                                                                                                                                                                                                                                       | betsy           , molly ringwald  , alan alda       , ringwald        , alda            , dylan walsh     , walsh           , madeline kahn   , ally sheedy     , sheedy          , anthony lapaglia, lapaglia        , stevie dee      , robert de niro  , alec baldwin    , de niro         , joe pesci       , catherine ohara , woody allen      | \n",
       "| cv008_29435.txt                                                                                                                                                                                      | lumumba         , janssens        , rudi delhem     , moise tshombe   , pascal nzonzi   , mobutu          , joseph kasa vubu, maka kotto      , peck            , bonitzer        , ebouaney         | \n",
       "| cv009_29592.txt                                                                                                                                                                    | schwartznager, stallone     , van damme    , rongguang yu , wong fei-hong, jackie chan  , fei-hong     , sze-man tsang, wong kei-ying, yen chi dan  , yuen wo ping , fox           | \n",
       "\n",
       "\n"
      ],
      "text/plain": [
       "   Files          \n",
       "1  cv000_29590.txt\n",
       "2  cv001_18431.txt\n",
       "3  cv002_15918.txt\n",
       "4  cv003_11664.txt\n",
       "5  cv004_11636.txt\n",
       "6  cv005_29443.txt\n",
       "7  cv006_15448.txt\n",
       "8  cv007_4968.txt \n",
       "9  cv008_29435.txt\n",
       "10 cv009_29592.txt\n",
       "   Matches                                                                                                                                                                                                                                                                                                                                                                                                                                                                                                                                                                              \n",
       "1  alan moore         , eddie campbell     , moore              , campbell           , jack               , michael jackson    , albert             , allen hughes       , peter godley       , robbie coltrane    , frederick abberline, johnny depp        , abberline          , mary kelly         , heather graham     , terry hayes        , rafael yglesias    , steve guttenberg   , tim burton         , marilyn manson     , peter deming       , martin childs      , depp               , ians holm          , joe gould          , richardson         , graham             \n",
       "2  matthew broderick       , reese witherspoon       , george washington carver, tracy flick             , paul                    , max fischer             , bill murray             , broderick               , witherspoon             , jessica campbell        , tammy                   , rooney                  , campbell                , alexander payne         , tracy                   , m                                                                                                                                                                              \n",
       "3  ryan           , hanks          , tom hanks      , joe fox        , meg ryan       , kathleen kelley, fox            , kelley                                                                                                                                                                                                                                                                                                                                                                                                                                                        \n",
       "4  john williams   , steven spielberg, spielberg       , williams        , martin brody    , roy scheider    , larry vaughn    , murray hamilton , brody           , matt hooper     , richard dreyfuss, hooper          , vaughn          , quint           , robert shaw     , hitchcock       , scheider        , dreyfuss        , shaw            , robert redford  , paul newman     , duddy kravitz   , ahab                                                                                                                                                                     \n",
       "5  herb           , jackie chan    , barry sanders  , sanders        , jackie         , chan           , bruce lee      , tim allen      , lawrence kazdan, john williams  , spielberg      , george lucas                                                                                                                                                                                                                                                                                                                                                                              \n",
       "6  raoul peck      , lumumba         , patrice lumumba , eriq ebouaney   , helmer peck     , peck            , pascal bonitzer , patrice         , joseph kasa vubu, maka kotto      , moise tschombe  , pascal nzonzi                                                                                                                                                                                                                                                                                                                                                                  \n",
       "7  tony kaye      , edward norton  , norton         , derek vinyard  , danny          , edward furlong , beverly dangelo, davin          , jennifer lien  , derek          , kaye           , avery brooks   , furlong        , dangelo        , lien                                                                                                                                                                                                                                                                                                                                   \n",
       "8  betsy           , molly ringwald  , alan alda       , ringwald        , alda            , dylan walsh     , walsh           , madeline kahn   , ally sheedy     , sheedy          , anthony lapaglia, lapaglia        , stevie dee      , robert de niro  , alec baldwin    , de niro         , joe pesci       , catherine ohara , woody allen                                                                                                                                                                                                                                      \n",
       "9  lumumba         , janssens        , rudi delhem     , moise tshombe   , pascal nzonzi   , mobutu          , joseph kasa vubu, maka kotto      , peck            , bonitzer        , ebouaney                                                                                                                                                                                                                                                                                                                                                                                         \n",
       "10 schwartznager, stallone     , van damme    , rongguang yu , wong fei-hong, jackie chan  , fei-hong     , sze-man tsang, wong kei-ying, yen chi dan  , yuen wo ping , fox                                                                                                                                                                                                                                                                                                                                                                                                             "
      ]
     },
     "metadata": {},
     "output_type": "display_data"
    }
   ],
   "source": [
    "goldStandard = read.table(file = \"goldStandard.csv\", quote = \"\", na.strings=c(\"\"), colClasses=\"character\", sep=\";\")\n",
    "\n",
    "allMatchesGold = mergeGoldStandardInLists(goldStandard)\n",
    "head(allMatchesGold,10)"
   ]
  },
  {
   "cell_type": "markdown",
   "metadata": {},
   "source": [
    "Finally, we calculate the metrics."
   ]
  },
  {
   "cell_type": "code",
   "execution_count": 45,
   "metadata": {},
   "outputs": [
    {
     "data": {
      "text/html": [
       "<table>\n",
       "<thead><tr><th scope=col>Precision</th><th scope=col>Recall</th><th scope=col>Fmeasure</th></tr></thead>\n",
       "<tbody>\n",
       "\t<tr><td>0.7233704 </td><td>0.03407474</td><td>0.06508368</td></tr>\n",
       "</tbody>\n",
       "</table>\n"
      ],
      "text/latex": [
       "\\begin{tabular}{r|lll}\n",
       " Precision & Recall & Fmeasure\\\\\n",
       "\\hline\n",
       "\t 0.7233704  & 0.03407474 & 0.06508368\\\\\n",
       "\\end{tabular}\n"
      ],
      "text/markdown": [
       "\n",
       "Precision | Recall | Fmeasure | \n",
       "|---|\n",
       "| 0.7233704  | 0.03407474 | 0.06508368 | \n",
       "\n",
       "\n"
      ],
      "text/plain": [
       "  Precision Recall     Fmeasure  \n",
       "1 0.7233704 0.03407474 0.06508368"
      ]
     },
     "metadata": {},
     "output_type": "display_data"
    }
   ],
   "source": [
    "metrics = calculateMetrics(allMatches, allMatchesGold)\n",
    "metrics"
   ]
  }
 ],
 "metadata": {
  "kernelspec": {
   "display_name": "R",
   "language": "R",
   "name": "ir"
  },
  "language_info": {
   "codemirror_mode": "r",
   "file_extension": ".r",
   "mimetype": "text/x-r-source",
   "name": "R",
   "pygments_lexer": "r",
   "version": "3.5.1"
  }
 },
 "nbformat": 4,
 "nbformat_minor": 2
}
